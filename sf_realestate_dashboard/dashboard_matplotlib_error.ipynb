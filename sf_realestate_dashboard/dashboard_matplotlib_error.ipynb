{
 "cells": [
  {
   "cell_type": "markdown",
   "metadata": {},
   "source": [
    "# San Francisco Rental Prices Dashboard\n",
    "\n",
    "In this notebook, you will compile the visualizations from the previous analysis into functions that can be used for a Panel dashboard."
   ]
  },
  {
   "cell_type": "code",
   "execution_count": 307,
   "metadata": {},
   "outputs": [],
   "source": [
    "# imports\n",
    "import pandas as pd\n",
    "import panel as pn\n",
    "import matplotlib.pyplot as plt\n",
    "import os\n",
    "from pathlib import Path\n",
    "from dotenv import load_dotenv\n",
    "from panel import widgets\n",
    "import plotly.express as px\n",
    "\n",
    "from matplotlib.figure import Figure\n",
    "from matplotlib.backends.backend_agg import FigureCanvas "
   ]
  },
  {
   "cell_type": "code",
   "execution_count": 308,
   "metadata": {},
   "outputs": [],
   "source": [
    "pn.extension('plotly')"
   ]
  },
  {
   "cell_type": "code",
   "execution_count": 309,
   "metadata": {},
   "outputs": [],
   "source": [
    "import hvplot.pandas"
   ]
  },
  {
   "cell_type": "code",
   "execution_count": 310,
   "metadata": {},
   "outputs": [],
   "source": [
    "# Read the Mapbox API key\n",
    "load_dotenv()\n",
    "map_box_api = os.getenv(\"MAPBOX_API_KEY\")\n",
    "px.set_mapbox_access_token(map_box_api)"
   ]
  },
  {
   "cell_type": "markdown",
   "metadata": {},
   "source": [
    "# Import Data"
   ]
  },
  {
   "cell_type": "code",
   "execution_count": 311,
   "metadata": {},
   "outputs": [],
   "source": [
    "# Import the necessary CSVs to Pandas DataFrames\n",
    "file_path = Path(\"Data/sfo_neighborhoods_census_data.csv\")\n",
    "sfo_data = pd.read_csv(file_path, index_col=\"year\")\n",
    "\n",
    "coordinates_data = pd.read_csv(Path(\"Data/neighborhoods_coordinates.csv\")).dropna()\n",
    "coordinates_data.drop_duplicates(inplace=True)"
   ]
  },
  {
   "cell_type": "markdown",
   "metadata": {},
   "source": [
    "- - -"
   ]
  },
  {
   "cell_type": "markdown",
   "metadata": {},
   "source": [
    "## Panel Visualizations\n",
    "\n",
    "In this section, you will copy the code for each plot type from your analysis notebook and place it into separate functions that Panel can use to create panes for the dashboard. \n",
    "\n",
    "These functions will convert the plot object to a Panel pane.\n",
    "\n",
    "Be sure to include any DataFrame transformation/manipulation code required along with the plotting code.\n",
    "\n",
    "Return a Panel pane object from each function that can be used to build the dashboard.\n",
    "\n",
    "Note: Remove any `.show()` lines from the code. We want to return the plots instead of showing them. The Panel dashboard will then display the plots."
   ]
  },
  {
   "cell_type": "code",
   "execution_count": 312,
   "metadata": {},
   "outputs": [],
   "source": [
    "def get_housing_units_yearly():\n",
    "    \"\"\"Creating Housing Units Per Year DF\"\"\"\n",
    "    housing_units_yearly = (\n",
    "        sfo_data[[\"housing_units\"]]\n",
    "        .groupby([sfo_data.index])\n",
    "        .mean()\n",
    "        .reset_index()\n",
    "    )\n",
    "    columns = [\"Year\", \"Housing Units\"]\n",
    "    housing_units_yearly.columns = columns\n",
    "    \n",
    "    return housing_units_yearly"
   ]
  },
  {
   "cell_type": "code",
   "execution_count": 313,
   "metadata": {},
   "outputs": [],
   "source": [
    "def get_avg_housing_sale_price():\n",
    "    \"\"\"Creating Average Sale Price in San Francisco Per Year DF\"\"\"\n",
    "    avg_housing_sale_price = (\n",
    "        sfo_data[[\"sale_price_sqr_foot\"]]\n",
    "        .groupby(sfo_data.index)\n",
    "        .mean()\n",
    "        .reset_index()\n",
    "    )\n",
    "    columns = [\"Year\", \"Price per SqFt\"]\n",
    "    avg_housing_sale_price.columns = columns\n",
    "    \n",
    "    return avg_housing_sale_price"
   ]
  },
  {
   "cell_type": "code",
   "execution_count": 314,
   "metadata": {},
   "outputs": [],
   "source": [
    "def get_avg_housing_rent():\n",
    "    \"\"\"Creating Average Gross Rent in San Francisco Per Year DF\"\"\"\n",
    "    avg_housing_rent = (\n",
    "        sfo_data[[\"gross_rent\"]]\n",
    "        .groupby(sfo_data.index)\n",
    "        .mean()\n",
    "        .reset_index()\n",
    "    )\n",
    "    columns = [\"Year\", \"Gross Rent\"]\n",
    "    avg_housing_rent.columns = columns\n",
    "    \n",
    "    return avg_housing_rent"
   ]
  },
  {
   "cell_type": "code",
   "execution_count": 315,
   "metadata": {},
   "outputs": [],
   "source": [
    "def get_neighborhood_avg():\n",
    "    \"\"\"Creating Average Prices by Neighborhood DF\"\"\"\n",
    "    neighborhood_avg = (\n",
    "        sfo_data\n",
    "        .groupby([sfo_data.index, \"neighborhood\"])\n",
    "        .mean()\n",
    "        .reset_index()\n",
    "    )\n",
    "    columns = [\"Year\", \"Neighborhood\", \"Avg. Sale Price per Square Foot\", \"Housing Units\", \"Gross Rent\"]\n",
    "    neighborhood_avg.columns = columns\n",
    "    \n",
    "    return neighborhood_avg"
   ]
  },
  {
   "cell_type": "code",
   "execution_count": 316,
   "metadata": {},
   "outputs": [],
   "source": [
    "def get_most_expensive_neighborhoods():\n",
    "    \"\"\"Creating Top 10 Most Expensive Neighborhoods DF\"\"\"\n",
    "    expensive_neighborhoods = (\n",
    "        sfo_data\n",
    "        .reset_index(drop=True)\n",
    "        .groupby([\"neighborhood\"])\n",
    "        .mean()\n",
    "        .sort_values(\"sale_price_sqr_foot\", ascending=False)\n",
    "        .reset_index()\n",
    "    )\n",
    "    columns = [\"Neighborhood\", \"Avg. Sale Price per Square Foot\", \"Housing Units\", \"Gross Rent\"]\n",
    "    expensive_neighborhoods.columns = columns\n",
    "    top_most_expensive_neighborhoods = expensive_neighborhoods[:10]\n",
    "    \n",
    "    return top_most_expensive_neighborhoods"
   ]
  },
  {
   "cell_type": "code",
   "execution_count": 317,
   "metadata": {},
   "outputs": [],
   "source": [
    "def get_most_expensive_neighborhoods_yearly():\n",
    "    \"\"\"Creating Most Expensive Neighborhood Prices DF\"\"\"\n",
    "    most_expensive_neighborhoods = (\n",
    "        get_neighborhood_avg()\n",
    "        .groupby([\"Neighborhood\", \"Gross Rent\", \"Avg. Sale Price per Square Foot\"])\n",
    "        .mean()\n",
    "        .reset_index()\n",
    "    )\n",
    "    \n",
    "    exp_neighborhood = []\n",
    "    exp_neighborhood_df = get_top_most_expensive_neighborhoods()[\"Neighborhood\"]\n",
    "\n",
    "    for neighborhood in exp_neighborhood_df:\n",
    "        exp_neighborhood.append(neighborhood)\n",
    "\n",
    "    most_expensive_neighborhood_data = (\n",
    "        most_expensive_neighborhoods[most_expensive_neighborhoods[\"Neighborhood\"].isin(exp_neighborhood)]\n",
    "    )\n",
    "    \n",
    "    return most_expensive_neighborhood_data"
   ]
  },
  {
   "cell_type": "code",
   "execution_count": 318,
   "metadata": {},
   "outputs": [],
   "source": [
    "def get_neighborhood_data():     \n",
    "    \"Creating Neighborhood Locations and Avg Values DF\"\n",
    "    neighborhood_avg_values = (\n",
    "        sfo_data\n",
    "        .groupby([\"neighborhood\"])\n",
    "        .mean()\n",
    "        .reset_index()\n",
    "    )\n",
    "    \n",
    "    neighborhood_data_df = pd.concat(\n",
    "    [coordinates_data, neighborhood_avg_values],\n",
    "    axis=1,\n",
    "    )\n",
    "    \n",
    "    neighborhood_data_df = neighborhood_data_df.drop(columns = [\"neighborhood\"])\n",
    "    neighborhood_data_df = neighborhood_data_df.rename(columns = {\n",
    "        \"Lat\" : \"Latitude\",\n",
    "        \"Lon\" : \"Longitude\",\n",
    "        \"sale_price_sqr_foot\" : \"Avg Sale Price per Square Foot\",\n",
    "        \"housing_units\" : \"Housing Units\",\n",
    "        \"gross_rent\" : \"Gross Rent\"\n",
    "    })\n",
    "    \n",
    "    return neighborhood_data_df"
   ]
  },
  {
   "cell_type": "code",
   "execution_count": 357,
   "metadata": {},
   "outputs": [],
   "source": [
    "# Define Panel Visualization Functions\n",
    "def housing_units_per_year():\n",
    "    \"\"\"Housing Units Per Year.\"\"\"\n",
    "    fig=plt.figure()\n",
    "    housing_units_yearly = (\n",
    "        sfo_data[[\"housing_units\"]]\n",
    "        .groupby([sfo_data.index])\n",
    "        .mean()\n",
    "        .reset_index()\n",
    "    )\n",
    "    columns = [\"Year\", \"Housing Units\"]\n",
    "    housing_units_yearly.columns = columns\n",
    "    \n",
    "    my_plot = housing_units_yearly.plot(\n",
    "        kind=\"bar\", \n",
    "        x=\"Year\", \n",
    "        y=\"Housing Units\",\n",
    "        ylim=(370000, 390000),\n",
    "        figsize=(15,10),\n",
    "        title=\"Housing Units in San Francsico from 2010 to 2016\"\n",
    "    )\n",
    "#     my_plot.set_ylabel(\"Housing Units\")\n",
    "    plt.close(fig)\n",
    "    return pn.panel(fig, tight=True)\n",
    "\n",
    "def average_gross_rent():\n",
    "    \"\"\"Average Gross Rent in San Francisco Per Year.\"\"\"\n",
    "    fig=plt.figure()\n",
    "    avg_housing_rent = get_avg_housing_rent()\n",
    "    gross_rent_avg_plot = avg_housing_rent.plot(\n",
    "        x=\"Year\",\n",
    "        y=\"Gross Rent\",\n",
    "        title=\"Average Gross Rent by Year\",\n",
    "        color=\"g\",\n",
    "        figsize=(15,10)\n",
    "    ).set_ylabel(\"Gross Rent\")\n",
    "    plt.close(fig)\n",
    "    return pn.pane.Matplotlib(fig)\n",
    "\n",
    "def average_sale_price():\n",
    "    \"\"\"Average Sales Price Per Year.\"\"\"\n",
    "    fig=plt.figure()\n",
    "    avg_housing_sale_price = get_avg_housing_sale_price()\n",
    "    sale_price_avg_plot = avg_housing_sale_price.plot(\n",
    "        x=\"Year\",\n",
    "        y=\"Price per SqFt\",\n",
    "        title=\"Average Price per SqFt by Year\",\n",
    "        color=\"r\",\n",
    "        figsize=(15,10)\n",
    "    ).set_ylabel(\"Price per SqFt\")\n",
    "    my_plot = sale_price_avg_plot.plot()\n",
    "    plt.close(fig)\n",
    "    return pn.pane.Matplotlib(fig)\n",
    "\n",
    "def average_price_by_neighborhood():\n",
    "    \"\"\"Average Prices by Neighborhood.\"\"\"\n",
    "    neighborhood_avg = get_neighborhood_avg()\n",
    "    neighborhood_avg_price_plot = neighborhood_avg.hvplot(\n",
    "        x=\"Year\",\n",
    "        y=\"Avg. Sale Price per Square Foot\",\n",
    "        groupby=\"Neighborhood\",\n",
    "        width=1000,\n",
    "        height=500\n",
    "    )\n",
    "    \n",
    "    return neighborhood_avg_price_plot\n",
    "\n",
    "def average_rent_by_neighborhood():\n",
    "    \"\"\"Average Gross Rent by Neighborhood\"\"\"\n",
    "    neighborhood_avg = get_neighborhood_avg()\n",
    "    neighborhood_avg_rent_plot = neighborhood_avg.hvplot(\n",
    "        x=\"Year\",\n",
    "        y=\"Gross Rent\",\n",
    "        groupby=\"Neighborhood\",\n",
    "        width=1000,\n",
    "        height=500\n",
    "    )\n",
    "\n",
    "    return neighborhood_avg_rent_plot\n",
    "    \n",
    "def top_most_expensive_neighborhoods():\n",
    "    \"\"\"Top 10 Most Expensive Neighborhoods.\"\"\" \n",
    "    most_expensive_neighborhoods = get_most_expensive_neighborhoods()\n",
    "    most_expensive_neighborhoods_plot = most_expensive_neighborhoods.hvplot.bar(\n",
    "        x=\"Neighborhood\",\n",
    "        y=\"Avg. Sale Price per Square Foot\",\n",
    "        title=\"Top 10 Expensive Neighborhoods in SFO\",\n",
    "        rot=90,\n",
    "        width=1000,\n",
    "        height=500\n",
    "    )\n",
    "\n",
    "    return most_expensive_neighborhoods_plot\n",
    "\n",
    "def most_expensive_neighborhoods_rent_sales():\n",
    "    \"\"\"Most Expensive Neighborhood Prices\"\"\"\n",
    "    most_expensive_neighborhoods_yearly = get_most_expensive_neighborhoods_yearly()\n",
    "    expensive_rent_neighborhood_plot = most_expensive_neighborhoods_yearly.hvplot.bar(\n",
    "        x=\"Year\",\n",
    "        y=[\"Gross Rent\", \"Avg. Sale Price per Square Foot\"],\n",
    "        xlabel= \"Year\",\n",
    "        ylabel = \"Housing Units\",\n",
    "        groupby=\"Neighborhood\",\n",
    "        title=\"Top 10 Expensive Neighborhoods in SFO\",\n",
    "        rot=90,\n",
    "        width=1000,\n",
    "        height=500\n",
    "    )\n",
    "    \n",
    "    return expensive_rent_neighborhood_plot\n",
    "    \n",
    "def parallel_coordinates():\n",
    "    \"\"\"Parallel Coordinates Plot.\"\"\"\n",
    "    most_expensive_neighborhoods = get_most_expensive_neighborhoods()\n",
    "    parallel_coordinates_plot = px.parallel_coordinates(\n",
    "        most_expensive_neighborhoods,\n",
    "        color=\"Avg. Sale Price per Square Foot\",\n",
    "        dimensions=[\"Avg. Sale Price per Square Foot\", \"Housing Units\", \"Gross Rent\"],\n",
    "        color_continuous_scale=px.colors.sequential.Inferno,\n",
    "    )\n",
    "    \n",
    "    return parallel_coordinates_plot\n",
    "\n",
    "\n",
    "def parallel_categories():\n",
    "    \"\"\"Parallel Categories Plot.\"\"\"\n",
    "    most_expensive_neighborhoods = get_most_expensive_neighborhoods()\n",
    "    parallel_categories_plot = px.parallel_categories( \n",
    "        most_expensive_neighborhoods,\n",
    "        dimensions=[\"Neighborhood\", \"Avg. Sale Price per Square Foot\", \"Housing Units\", \"Gross Rent\"],\n",
    "        color=\"Avg. Sale Price per Square Foot\",\n",
    "        color_continuous_scale=px.colors.sequential.Inferno,\n",
    "        title=\"Parallel Categories Analysis of Most Expensive San Francisco Neighborhoods\"\n",
    "    )\n",
    "    \n",
    "    return parallel_categories_plot \n",
    "\n",
    "def neighborhood_map():\n",
    "    \"\"\"Neighborhood Map.\"\"\"    \n",
    "    neighborhood_data = get_neighborhood_data()\n",
    "    neighborhood_scatter_plot = px.scatter_mapbox(\n",
    "        neighborhood_data,\n",
    "        lat=\"Latitude\",\n",
    "        lon=\"Longitude\",\n",
    "        hover_name=\"Neighborhood\",\n",
    "        color=\"Gross Rent\",\n",
    "        size=\"Avg Sale Price per Square Foot\",\n",
    "        color_continuous_scale=px.colors.cyclical.IceFire,\n",
    "        title=\"Average Sale Price per Square Foot & Gross Rent in San Francisco\",\n",
    "        width=500\n",
    "    )\n",
    "    \n",
    "    return neighborhood_scatter_plot\n",
    "\n",
    "def sunburst():\n",
    "    \"\"\"Sunburst Plot.\"\"\"\n",
    "    most_expensive_neighborhoods_yearly = get_most_expensive_neighborhoods_yearly()\n",
    "    sunburst_plot = px.sunburst(\n",
    "        most_expensive_neighborhoods_yearly,\n",
    "        path=[\"Year\", \"Neighborhood\"],\n",
    "        color=\"Gross Rent\",\n",
    "        color_continuous_scale=px.colors.sequential.Blues   \n",
    "    )\n",
    "\n",
    "    return sunburst_plot"
   ]
  },
  {
   "cell_type": "markdown",
   "metadata": {},
   "source": [
    "## Panel Dashboard\n",
    "\n",
    "In this section, you will combine all of the plots into a single dashboard view using Panel. Be creative with your dashboard design!"
   ]
  },
  {
   "cell_type": "code",
   "execution_count": 358,
   "metadata": {},
   "outputs": [
    {
     "data": {
      "image/png": "[encoded data removed]",
      "text/plain": [
       "<Figure size 1080x720 with 1 Axes>"
      ]
     },
     "metadata": {
      "needs_background": "light"
     },
     "output_type": "display_data"
    }
   ],
   "source": [
    "# Create a Title for the Dashboard\n",
    "\n",
    "avg_sale_rent_col = pn.Column(\n",
    "    \"## Average Housing Sale Price and Average Gross Rent by Year Graphs\",\n",
    "#     average_sale_price(),\n",
    "#     average_gross_rent(),\n",
    "    sizing_mode=\"stretch_width\"\n",
    ")\n",
    "\n",
    "expensive_neighborhood_parallels_col = pn.Column(\n",
    "    \"## Top Most Expensive Neighborhood Multivariable Analysis Graphs\",\n",
    "    parallel_coordinates(),\n",
    "    parallel_categories(),\n",
    "    sizing_mode=\"stretch_width\"\n",
    "\n",
    ")\n",
    "\n",
    "sunburst_col = pn.Column(\n",
    "    \"## Top Most Expensive Neighborhood Cost Anaylysis by Year\",\n",
    "    sunburst()\n",
    ")\n",
    "\n",
    "avg_sale_rent_by_neighborhood_col = pn.Column(\n",
    "    \"## Average Sale Price per SqFt & Gross Rent by Neighborhood Graphs\",\n",
    "    average_price_by_neighborhood(),\n",
    "    average_rent_by_neighborhood(),\n",
    "    sizing_mode=\"stretch_width\"\n",
    ")\n",
    "\n",
    "housing_units_col = pn.Column(\n",
    "    \"## Average Housing Units by Year Graph\",\n",
    "    housing_units_per_year(),\n",
    "    sizing_mode=\"stretch_width\"\n",
    ")\n",
    "\n",
    "expensive_neighborhoods_col = pn.Column(\n",
    "    \"## Top Most Expensive Neighborhoods & Yearly Data by Neighborhood Graphs\",\n",
    "    top_most_expensive_neighborhoods(),\n",
    "    most_expensive_neighborhoods_rent_sales(),\n",
    "    sizing_mode=\"stretch_width\"\n",
    "    \n",
    ")\n",
    "\n",
    "neighborhood_map_col = pn.Column(\n",
    "    \"# San Francisco Real Estate Interactive Dashboard\",\n",
    "    \"## San Francisco Neighborhood Map\",\n",
    "    neighborhood_map(),\n",
    "    sizing_mode=\"stretch_width\"\n",
    ")\n",
    "\n",
    "\n",
    "# Create a tab layout for the dashboard\n",
    "# YOUR CODE HERE!\n",
    "# sf_realestate_dashboard = pn.Tabs(\n",
    "#     (\"Neighborhood Map\", neighborhood_map_col),\n",
    "#     (\"Housing Units Annually\", housing_units_col),\n",
    "#     (\"Sale Price & Gross Rent\", avg_sale_rent_col),\n",
    "#     (\"Sale Price & Gross Rent by Neighborhood\", avg_sale_rent_by_neighborhood_col),\n",
    "#     (\"Expensive Neighborhoods\", expensive_neighborhoods_col),\n",
    "#     (\"Expensive Neighborhoods Analysis\", expensive_neighborhood_parallels_col),\n",
    "#     (\"Expensive Neighborhoods Cost Analysis\", sunburst_col)\n",
    "# )\n",
    "\n",
    "# Create the dashboard\n",
    "#sf_realestate_dashboard"
   ]
  },
  {
   "cell_type": "markdown",
   "metadata": {},
   "source": [
    "## Serve the Panel Dashboard"
   ]
  },
  {
   "cell_type": "code",
   "execution_count": 359,
   "metadata": {},
   "outputs": [],
   "source": [
    "# Serve the# dashboard\n",
    "# YOUR CODE HERE!\n"
   ]
  },
  {
   "cell_type": "markdown",
   "metadata": {},
   "source": [
    "# Debugging\n",
    "\n",
    "Note: Some of the Plotly express plots may not render in the notebook through the panel functions.\n",
    "\n",
    "However, you can test each plot by uncommenting the following code"
   ]
  },
  {
   "cell_type": "code",
   "execution_count": 360,
   "metadata": {},
   "outputs": [
    {
     "data": {},
     "metadata": {},
     "output_type": "display_data"
    },
    {
     "data": {
      "application/vnd.holoviews_exec.v0+json": "",
      "text/html": [
       "<div id='12629'>\n",
       "\n",
       "\n",
       "\n",
       "\n",
       "\n",
       "  <div class=\"bk-root\" id=\"0f73a9c2-ee50-4943-a0c2-6d855ca5d3cb\" data-root-id=\"12629\"></div>\n",
       "</div>\n",
       "<script type=\"application/javascript\">(function(root) {\n",
       "  function embed_document(root) {\n",
       "    var docs_json = {\"02280f04-89c7-45aa-8e1f-c0d777624eaf\":{\"roots\":{\"references\":[{\"attributes\":{\"height\":288,\"margin\":[5,5,5,5],\"name\":\"Matplotlib25491\",\"text\":\"&lt;img src=&quot;data:image/png;base64,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&quot; width=&quot;432px&quot; height=&quot;288px&quot; alt=&quot;&quot;&gt;&lt;/img&gt;\",\"width\":432},\"id\":\"12629\",\"type\":\"panel.models.markup.HTML\"},{\"attributes\":{\"reload\":false},\"id\":\"12631\",\"type\":\"panel.models.location.Location\"},{\"attributes\":{\"client_comm_id\":\"37969f80b50c4614affbbb661e393cf1\",\"comm_id\":\"4dfd3ded8c804e06859c024611b7bc1c\",\"plot_id\":\"12629\"},\"id\":\"12630\",\"type\":\"panel.models.comm_manager.CommManager\"}],\"root_ids\":[\"12629\",\"12630\",\"12631\"]},\"title\":\"Bokeh Application\",\"version\":\"2.2.3\"}};\n",
       "    var render_items = [{\"docid\":\"02280f04-89c7-45aa-8e1f-c0d777624eaf\",\"root_ids\":[\"12629\"],\"roots\":{\"12629\":\"0f73a9c2-ee50-4943-a0c2-6d855ca5d3cb\"}}];\n",
       "    root.Bokeh.embed.embed_items_notebook(docs_json, render_items);\n",
       "  }\n",
       "  if (root.Bokeh !== undefined && root.Bokeh.Panel !== undefined && root['Plotly'] !== undefined ) {\n",
       "    embed_document(root);\n",
       "  } else {\n",
       "    var attempts = 0;\n",
       "    var timer = setInterval(function(root) {\n",
       "      if (root.Bokeh !== undefined && root.Bokeh.Panel !== undefined && root['Plotly'] !== undefined) {\n",
       "        clearInterval(timer);\n",
       "        embed_document(root);\n",
       "      } else if (document.readyState == \"complete\") {\n",
       "        attempts++;\n",
       "        if (attempts > 100) {\n",
       "          clearInterval(timer);\n",
       "          console.log(\"Bokeh: ERROR: Unable to run BokehJS code because BokehJS library is missing\");\n",
       "        }\n",
       "      }\n",
       "    }, 10, root)\n",
       "  }\n",
       "})(window);</script>"
      ],
      "text/plain": [
       "Matplotlib(Figure, tight=True)"
      ]
     },
     "execution_count": 360,
     "metadata": {
      "application/vnd.holoviews_exec.v0+json": {
       "id": "12629"
      }
     },
     "output_type": "execute_result"
    },
    {
     "data": {
      "image/png": "[encoded data removed]",
      "text/plain": [
       "<Figure size 1080x720 with 1 Axes>"
      ]
     },
     "metadata": {
      "needs_background": "light"
     },
     "output_type": "display_data"
    }
   ],
   "source": [
    "housing_units_per_year()"
   ]
  },
  {
   "cell_type": "code",
   "execution_count": 221,
   "metadata": {},
   "outputs": [
    {
     "data": {
      "text/plain": [
       "<matplotlib.axes._subplots.AxesSubplot at 0x7fc888f34510>"
      ]
     },
     "execution_count": 221,
     "metadata": {},
     "output_type": "execute_result"
    },
    {
     "data": {
      "image/png": "[encoded data removed]",
      "text/plain": [
       "<Figure size 432x288 with 1 Axes>"
      ]
     },
     "metadata": {
      "needs_background": "light"
     },
     "output_type": "display_data"
    }
   ],
   "source": [
    " average_gross_rent()"
   ]
  },
  {
   "cell_type": "code",
   "execution_count": 226,
   "metadata": {},
   "outputs": [
    {
     "data": {
      "text/plain": [
       "<matplotlib.axes._subplots.AxesSubplot at 0x7fc889f7cf10>"
      ]
     },
     "execution_count": 226,
     "metadata": {},
     "output_type": "execute_result"
    },
    {
     "data": {
      "image/png": "[encoded data removed]",
      "text/plain": [
       "<Figure size 432x288 with 1 Axes>"
      ]
     },
     "metadata": {
      "needs_background": "light"
     },
     "output_type": "display_data"
    }
   ],
   "source": [
    "average_sales_price()"
   ]
  },
  {
   "cell_type": "code",
   "execution_count": 243,
   "metadata": {},
   "outputs": [],
   "source": [
    "#average_price_by_neighborhood()"
   ]
  },
  {
   "cell_type": "code",
   "execution_count": 242,
   "metadata": {},
   "outputs": [],
   "source": [
    "#average_rent_by_neighborhood()"
   ]
  },
  {
   "cell_type": "code",
   "execution_count": 241,
   "metadata": {},
   "outputs": [],
   "source": [
    "#top_most_expensive_neighborhoods()"
   ]
  },
  {
   "cell_type": "code",
   "execution_count": 236,
   "metadata": {},
   "outputs": [],
   "source": [
    "#most_expensive_neighborhoods_rent_sales()"
   ]
  },
  {
   "cell_type": "code",
   "execution_count": 237,
   "metadata": {},
   "outputs": [],
   "source": [
    "#neighborhood_map().show()"
   ]
  },
  {
   "cell_type": "code",
   "execution_count": 238,
   "metadata": {},
   "outputs": [],
   "source": [
    "#parallel_categories()"
   ]
  },
  {
   "cell_type": "code",
   "execution_count": 239,
   "metadata": {},
   "outputs": [],
   "source": [
    "#parallel_coordinates()"
   ]
  },
  {
   "cell_type": "code",
   "execution_count": 240,
   "metadata": {},
   "outputs": [],
   "source": [
    "#sunburst()"
   ]
  },
  {
   "cell_type": "code",
   "execution_count": null,
   "metadata": {},
   "outputs": [],
   "source": []
  }
 ],
 "metadata": {
  "file_extension": ".py",
  "kernelspec": {
   "display_name": "Python [conda env:anaconda3-pyvizenv] *",
   "language": "python",
   "name": "conda-env-anaconda3-pyvizenv-py"
  },
  "language_info": {
   "codemirror_mode": {
    "name": "ipython",
    "version": 3
   },
   "file_extension": ".py",
   "mimetype": "text/x-python",
   "name": "python",
   "nbconvert_exporter": "python",
   "pygments_lexer": "ipython3",
   "version": "3.7.9"
  },
  "mimetype": "text/x-python",
  "name": "python",
  "npconvert_exporter": "python",
  "pygments_lexer": "ipython3",
  "version": 3
 },
 "nbformat": 4,
 "nbformat_minor": 4
}
